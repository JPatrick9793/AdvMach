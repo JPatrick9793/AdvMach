{
 "cells": [
  {
   "cell_type": "code",
   "execution_count": 1,
   "metadata": {},
   "outputs": [],
   "source": [
    "import tensorflow as tf\n",
    "from tensorflow import keras\n",
    "import numpy as np\n",
    "import matplotlib.pyplot as plt\n",
    "import gym\n",
    "import collections\n",
    "import math"
   ]
  },
  {
   "cell_type": "code",
   "execution_count": 2,
   "metadata": {},
   "outputs": [
    {
     "name": "stdout",
     "output_type": "stream",
     "text": [
      "\u001b[33mWARN: gym.spaces.Box autodetected dtype as <class 'numpy.float32'>. Please provide explicit dtype.\u001b[0m\n"
     ]
    }
   ],
   "source": [
    "env_name = 'MountainCar-v0'\n",
    "env = gym.make(env_name)"
   ]
  },
  {
   "cell_type": "code",
   "execution_count": 3,
   "metadata": {},
   "outputs": [],
   "source": [
    "NUM_STATES = env.env.observation_space.shape[0]\n",
    "NUM_ACTIONS = env.env.action_space.n"
   ]
  },
  {
   "cell_type": "code",
   "execution_count": 4,
   "metadata": {},
   "outputs": [],
   "source": [
    "NUM_BATCHES = 32\n",
    "GAMMA = 0.99\n",
    "EPSILON = 1.0"
   ]
  },
  {
   "cell_type": "markdown",
   "metadata": {},
   "source": [
    "# Create model using Keras\n",
    "***"
   ]
  },
  {
   "cell_type": "code",
   "execution_count": 5,
   "metadata": {},
   "outputs": [],
   "source": [
    "def create_model(input_shape, num_actions):\n",
    "    model = keras.models.Sequential()\n",
    "    model.add(\n",
    "        keras.layers.Dense(input_shape=input_shape,\n",
    "                           units=12,\n",
    "                           activation=tf.nn.relu)\n",
    "    )\n",
    "    model.add(\n",
    "        keras.layers.Dense(units=12,\n",
    "                           activation=tf.nn.relu)\n",
    "    )\n",
    "    model.add(\n",
    "        keras.layers.Dense(units=num_actions)\n",
    "    )\n",
    "    model.compile(\n",
    "        optimizer=keras.optimizers.Adam(),\n",
    "        loss=keras.losses.mean_squared_error,\n",
    "        metrics=['accuracy']\n",
    "    )\n",
    "    \n",
    "    return model"
   ]
  },
  {
   "cell_type": "markdown",
   "metadata": {},
   "source": [
    "Make a test class to see whether model is created properly:"
   ]
  },
  {
   "cell_type": "code",
   "execution_count": 6,
   "metadata": {},
   "outputs": [
    {
     "name": "stdout",
     "output_type": "stream",
     "text": [
      "_________________________________________________________________\n",
      "Layer (type)                 Output Shape              Param #   \n",
      "=================================================================\n",
      "dense (Dense)                (None, 12)                36        \n",
      "_________________________________________________________________\n",
      "dense_1 (Dense)              (None, 12)                156       \n",
      "_________________________________________________________________\n",
      "dense_2 (Dense)              (None, 2)                 26        \n",
      "=================================================================\n",
      "Total params: 218\n",
      "Trainable params: 218\n",
      "Non-trainable params: 0\n",
      "_________________________________________________________________\n"
     ]
    }
   ],
   "source": [
    "testModel = create_model(\n",
    "    input_shape=(2,),\n",
    "    num_actions=2\n",
    ")\n",
    "testModel.summary()"
   ]
  },
  {
   "cell_type": "markdown",
   "metadata": {},
   "source": [
    "# Same Memory Class...\n",
    "***"
   ]
  },
  {
   "cell_type": "code",
   "execution_count": 7,
   "metadata": {},
   "outputs": [],
   "source": [
    "class Memory:\n",
    "    def __init__(self, maxMemory):\n",
    "        self._samples = collections.deque(maxlen = maxMemory)\n",
    "        \n",
    "    def add_sample(self, sample):\n",
    "        self._samples.append(sample)\n",
    "        \n",
    "    def sample(self, nSamples):\n",
    "        deqLen = len(self._samples)\n",
    "        \n",
    "        ### DEBUG ###\n",
    "        #print (\"dequelen: {}\".format(deqLen))\n",
    "        #print (\"nSamples: {}\".format(nSamples))\n",
    "        #print (\"High: {}\".format(high))\n",
    "        \n",
    "        \n",
    "        size = np.min([nSamples, deqLen])       # Lower of either nSamples or deqLen\n",
    "        x = np.random.choice(a = deqLen,        # Randomly select indices from array\n",
    "                             size = size,           # Random sample size  \n",
    "                             replace = False)       # Replacement set to False\n",
    "        \n",
    "        return [self._samples[i] for i in x]    # Return list of randomly chosen indices\n",
    "        "
   ]
  },
  {
   "cell_type": "markdown",
   "metadata": {},
   "source": [
    "# Create Custom GameRunner class\n",
    "***"
   ]
  },
  {
   "cell_type": "code",
   "execution_count": 8,
   "metadata": {},
   "outputs": [],
   "source": [
    "class GameRunner:\n",
    "    \n",
    "    def __init__(self, model, env, memory, epsilon, gamma, render=False):\n",
    "        self.env = env\n",
    "        self.model = model\n",
    "        self.memory = memory\n",
    "        self.render = render\n",
    "        \n",
    "        self.epsilon = epsilon\n",
    "        self.gamma = gamma\n",
    "        \n",
    "        self.steps = 0\n",
    "        self.reward_store = []\n",
    "        self.max_x_store = []\n",
    "        \n",
    "    def choose_action(self, state):\n",
    "        # print ('GameRunner.choose_action() called')\n",
    "        random = np.random.random()\n",
    "        # print ('\\t random: {}'.format(random))\n",
    "        if random < self.epsilon: \n",
    "            # print ('\\t\\t random less than epsilon, random action chosen')\n",
    "            return np.random.randint(0, NUM_ACTIONS)\n",
    "        else: \n",
    "            '''\n",
    "            print ('\\t random greater than epsilon, action predicted')\n",
    "            print ('\\t\\t state: {}'.format(state))\n",
    "            print ('\\t\\t state.shape: {}'.format(state.shape))\n",
    "            '''\n",
    "            return np.argmax(\n",
    "                self.model.predict(x=state.reshape(1,-1), batch_size=1, verbose=0, steps=None)\n",
    "            )\n",
    "        \n",
    "    def replay(self):\n",
    "        # Create batch of randomly sampled pairs from memory\n",
    "        batch = self.memory.sample(NUM_BATCHES)\n",
    "        # Extract states from batch\n",
    "        states = np.array([x[0] for x in batch])\n",
    "        # Extract next states from batch\n",
    "        next_states = np.array([np.zeros(NUM_STATES) if x[3] is None else x[3] for x in batch])\n",
    "        \n",
    "        # Calculate Q(s,a) given states\n",
    "        qsa  = self.model.predict_on_batch(states)\n",
    "        # Calculate Q(s',a') given next states\n",
    "        qsad = self.model.predict_on_batch(next_states)\n",
    "        \n",
    "        # Empty arrays holding states and corresponding actions\n",
    "        x = np.zeros((len(batch), NUM_STATES))\n",
    "        y = np.zeros((len(batch), NUM_ACTIONS))\n",
    "        \n",
    "        for i, b in enumerate(batch):\n",
    "            state, action, reward, next_state = b[0], b[1], b[2], b[3]\n",
    "            # This is the Q(s,a) for ith sample\n",
    "            current_q = qsa[i]                                   \n",
    "            # If next state was None, simply reward\n",
    "            if next_state is None: current_q[action] = reward\n",
    "            # Update Q(s,a) for specified action using max value of Q(s',a')\n",
    "            else: current_q[action] = reward + self.gamma*np.amax(qsad[i])\n",
    "            \n",
    "            x[i] = state\n",
    "            y[i] = current_q\n",
    "        \n",
    "        # Batch train\n",
    "        self.model.train_on_batch(x, y)\n",
    "        \n",
    "        \n",
    "    def run(self):\n",
    "        ### DEBUG ###\n",
    "        # print ('GameRunner.run() has been called')\n",
    "        \n",
    "        state = self.env.reset()   # Reset the environment\n",
    "        # print ('\\t (state, shape): ({},{})'.format(state, state.shape))\n",
    "        \n",
    "        total_reward = 0           # Start @ 0\n",
    "        max_x = -100               # starting value\n",
    "        while True:\n",
    "            # Render the game if wanted\n",
    "            if self.render: self.env.render()\n",
    "            # Choose an action (either random or greedy)\n",
    "            action = self.choose_action(state)\n",
    "            # take a step forward in the environment\n",
    "            next_state, reward, done, info = self.env.step(action)\n",
    "            \n",
    "            '''\n",
    "            print ('Step # {}'.format(self.steps))\n",
    "            print ('\\tstate: {}'.format(state))\n",
    "            print ('\\tinitial reward: {}'.format(reward))\n",
    "            '''\n",
    "            ### Custom increase to reward function ###\n",
    "            if next_state[0] >= 0.1: reward += 10\n",
    "            elif next_state[0] >= 0.25: reward += 20\n",
    "            elif next_state[0] >= 0.5: reward += 100\n",
    "            # reward += state[0]   # increase reward based on position\n",
    "            # print ('\\tpost reward: {}'.format(reward))\n",
    "            \n",
    "            if next_state[0] > max_x: max_x = next_state[0]    # increase max_x if appropriate\n",
    "                \n",
    "                \n",
    "            if done: next_state = None\n",
    "                \n",
    "            self.memory.add_sample((state, action, reward, next_state))\n",
    "            self.replay()\n",
    "            \n",
    "            \n",
    "            ## Exponentially decay the epsilon value\n",
    "            DECAY = 0.000001\n",
    "            MIN_EPSILON = 0.01\n",
    "            self.epsilon = MIN_EPSILON + (self.epsilon - MIN_EPSILON) * math.exp(-DECAY * self.steps)\n",
    "        \n",
    "            # Make the next_state the new current state\n",
    "            state = next_state\n",
    "            \n",
    "            # Increase total reward\n",
    "            total_reward += reward\n",
    "            # print ('\\ttotal reward: {}'.format(total_reward))\n",
    "            \n",
    "            # Increase step counter\n",
    "            self.steps += 1\n",
    "            \n",
    "            # If game is done, break loop:\n",
    "            if done:\n",
    "                self.reward_store.append(total_reward)\n",
    "                self.max_x_store.append(max_x)\n",
    "                break\n",
    "        if self.steps % 200 == 0:    \n",
    "            print (\"Step {}, Total reward: {}, Eps: {}\".format(self.steps, total_reward, self.epsilon))\n",
    "    "
   ]
  },
  {
   "cell_type": "markdown",
   "metadata": {},
   "source": [
    "# TEST IT OUT!!\n",
    "***"
   ]
  },
  {
   "cell_type": "code",
   "execution_count": 9,
   "metadata": {},
   "outputs": [
    {
     "name": "stdout",
     "output_type": "stream",
     "text": [
      "_________________________________________________________________\n",
      "Layer (type)                 Output Shape              Param #   \n",
      "=================================================================\n",
      "dense_3 (Dense)              (None, 12)                36        \n",
      "_________________________________________________________________\n",
      "dense_4 (Dense)              (None, 12)                156       \n",
      "_________________________________________________________________\n",
      "dense_5 (Dense)              (None, 3)                 39        \n",
      "=================================================================\n",
      "Total params: 231\n",
      "Trainable params: 231\n",
      "Non-trainable params: 0\n",
      "_________________________________________________________________\n"
     ]
    }
   ],
   "source": [
    "model = create_model(\n",
    "    input_shape=(NUM_STATES,),\n",
    "    num_actions=NUM_ACTIONS\n",
    ")\n",
    "model.summary()"
   ]
  },
  {
   "cell_type": "code",
   "execution_count": 10,
   "metadata": {},
   "outputs": [],
   "source": [
    "mem = Memory(50000)"
   ]
  },
  {
   "cell_type": "code",
   "execution_count": 11,
   "metadata": {},
   "outputs": [],
   "source": [
    "total_reward = []\n",
    "max_x_score = []"
   ]
  },
  {
   "cell_type": "code",
   "execution_count": 12,
   "metadata": {},
   "outputs": [],
   "source": [
    "gr = GameRunner(\n",
    "    model=model,\n",
    "    env=env,\n",
    "    memory=mem,\n",
    "    epsilon=EPSILON,\n",
    "    gamma=GAMMA,\n",
    "    render=False\n",
    ")"
   ]
  },
  {
   "cell_type": "code",
   "execution_count": 13,
   "metadata": {},
   "outputs": [],
   "source": [
    "num_episodes = 200"
   ]
  },
  {
   "cell_type": "code",
   "execution_count": 14,
   "metadata": {},
   "outputs": [],
   "source": [
    "count = 0"
   ]
  },
  {
   "cell_type": "code",
   "execution_count": 15,
   "metadata": {},
   "outputs": [
    {
     "name": "stdout",
     "output_type": "stream",
     "text": [
      "Episode 1 of 200\n",
      "Step 1000, Total reward: -300.6911993692512, Eps: 0.6107656608627463\n",
      "Step 2000, Total reward: -305.7322088519865, Eps: 0.14411597934795164\n",
      "Step 3000, Total reward: -332.72492970417284, Eps: 0.021014415811552417\n",
      "Step 4000, Total reward: -277.81051479215023, Eps: 0.01033277288228576\n",
      "Episode 26 of 200\n",
      "Episode 51 of 200\n",
      "Episode 76 of 200\n",
      "Episode 101 of 200\n",
      "Episode 126 of 200\n",
      "Episode 151 of 200\n",
      "Episode 176 of 200\n"
     ]
    }
   ],
   "source": [
    "while count < num_episodes:\n",
    "    if count % 25 == 0:\n",
    "        print ('Episode {} of {}'.format(count+1, num_episodes))\n",
    "    gr.run()\n",
    "    count += 1"
   ]
  },
  {
   "cell_type": "code",
   "execution_count": 16,
   "metadata": {},
   "outputs": [],
   "source": [
    "total_reward = gr.reward_store\n",
    "max_x_score = gr.max_x_store"
   ]
  },
  {
   "cell_type": "code",
   "execution_count": 17,
   "metadata": {},
   "outputs": [
    {
     "data": {
      "image/png": "[encoded data removed]",
      "text/plain": [
       "<Figure size 432x288 with 1 Axes>"
      ]
     },
     "metadata": {},
     "output_type": "display_data"
    },
    {
     "data": {
      "text/plain": [
       "<function matplotlib.pyplot.show(*args, **kw)>"
      ]
     },
     "execution_count": 17,
     "metadata": {},
     "output_type": "execute_result"
    },
    {
     "data": {
      "image/png": "[encoded data removed]",
      "text/plain": [
       "<Figure size 432x288 with 1 Axes>"
      ]
     },
     "metadata": {},
     "output_type": "display_data"
    }
   ],
   "source": [
    "plt.plot(total_reward)\n",
    "plt.title('Total Reward')\n",
    "plt.x\n",
    "plt.show()\n",
    "    \n",
    "plt.close(\"all\")\n",
    "plt.plot(max_x_score)\n",
    "plt.title('Max X Store')\n",
    "plt.show"
   ]
  },
  {
   "cell_type": "code",
   "execution_count": null,
   "metadata": {},
   "outputs": [],
   "source": []
  }
 ],
 "metadata": {
  "kernelspec": {
   "display_name": "Python 3",
   "language": "python",
   "name": "python3"
  },
  "language_info": {
   "codemirror_mode": {
    "name": "ipython",
    "version": 3
   },
   "file_extension": ".py",
   "mimetype": "text/x-python",
   "name": "python",
   "nbconvert_exporter": "python",
   "pygments_lexer": "ipython3",
   "version": "3.6.6"
  }
 },
 "nbformat": 4,
 "nbformat_minor": 2
}
