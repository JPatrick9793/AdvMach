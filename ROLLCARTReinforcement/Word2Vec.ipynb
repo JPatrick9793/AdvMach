{
 "cells": [
  {
   "cell_type": "code",
   "execution_count": 24,
   "metadata": {},
   "outputs": [],
   "source": [
    "import tensorflow as tf\n",
    "import numpy as np\n",
    "import matplotlib.pyplot as plt\n",
    "import os\n",
    "import urllib\n",
    "import zipfile\n",
    "import collections"
   ]
  },
  {
   "cell_type": "code",
   "execution_count": 25,
   "metadata": {},
   "outputs": [],
   "source": [
    "def maybe_downlaod(filename, url, expected_bytes):\n",
    "    # If file not already present, urllib request to download\n",
    "    if not os.path.exists(filename): \n",
    "        filename, _ = urllib.request.urlretrieve(url + filename, filename)\n",
    "    statinfo = os.stat(filename)\n",
    "    if statinfo.st_size == expected_bytes:\n",
    "        print ('Found and verified')\n",
    "    else:\n",
    "        print (statinfo.st_size)\n",
    "        raise Exception('Failed to verify ' + filename)\n",
    "    return filename"
   ]
  },
  {
   "cell_type": "code",
   "execution_count": 26,
   "metadata": {},
   "outputs": [
    {
     "name": "stdout",
     "output_type": "stream",
     "text": [
      "Found and verified\n"
     ]
    }
   ],
   "source": [
    "url = 'http://mattmahoney.net/dc/'\n",
    "filename = maybe_downlaod('text8.zip', url, 31344016)"
   ]
  },
  {
   "cell_type": "code",
   "execution_count": 27,
   "metadata": {},
   "outputs": [],
   "source": [
    "def read_data(filename):\n",
    "    # Extract first file as list of words...\n",
    "    with zipfile.ZipFile(filename) as f:\n",
    "        fileNames = f.namelist()\n",
    "        fileContentAsString = f.read(fileNames[0])\n",
    "        data = tf.compat.as_str(fileContentAsString).split()\n",
    "    return data"
   ]
  },
  {
   "cell_type": "code",
   "execution_count": 28,
   "metadata": {},
   "outputs": [
    {
     "name": "stdout",
     "output_type": "stream",
     "text": [
      "['anarchism', 'originated', 'as', 'a', 'term', 'of', 'abuse']\n"
     ]
    }
   ],
   "source": [
    "vocabulary = read_data(filename)\n",
    "print(vocabulary[:7])"
   ]
  },
  {
   "cell_type": "code",
   "execution_count": 31,
   "metadata": {},
   "outputs": [],
   "source": [
    "def build_dataset(words, n_words):\n",
    "    count = [['UNK', -1]]\n",
    "    count.extend(collections.Counter(words).most_common(n_words - 1))\n",
    "    dictionary = {}\n",
    "    for word, _ in count:\n",
    "        dictionary[word] = len(dictionary)\n",
    "    data = []\n",
    "    unk_count = 0\n",
    "    for word in words:\n",
    "        if word in dictionary:\n",
    "            idx = dictionary[word]\n",
    "        else:\n",
    "            idx = 0 # This stands for 'UNK'\n",
    "            unk_count += 1\n",
    "        data.append(idx)\n",
    "    count[0][1] = unk_count\n",
    "    reversed_dictionary = dict(zip(dictionary.values(), dictionary.keys()))\n",
    "    return data, count, dictionary, reversed_dictionary"
   ]
  },
  {
   "cell_type": "code",
   "execution_count": 32,
   "metadata": {},
   "outputs": [],
   "source": [
    "data, count, dictionary, reversed_dictionary = build_dataset(vocabulary, 100)"
   ]
  },
  {
   "cell_type": "code",
   "execution_count": 34,
   "metadata": {},
   "outputs": [
    {
     "data": {
      "text/plain": [
       "[['UNK', 9018576],\n",
       " ('the', 1061396),\n",
       " ('of', 593677),\n",
       " ('and', 416629),\n",
       " ('one', 411764),\n",
       " ('in', 372201),\n",
       " ('a', 325873),\n",
       " ('to', 316376),\n",
       " ('zero', 264975),\n",
       " ('nine', 250430),\n",
       " ('two', 192644),\n",
       " ('is', 183153),\n",
       " ('as', 131815),\n",
       " ('eight', 125285),\n",
       " ('for', 118445),\n",
       " ('s', 116710),\n",
       " ('five', 115789),\n",
       " ('three', 114775),\n",
       " ('was', 112807),\n",
       " ('by', 111831),\n",
       " ('that', 109510),\n",
       " ('four', 108182),\n",
       " ('six', 102145),\n",
       " ('seven', 99683),\n",
       " ('with', 95603),\n",
       " ('on', 91250),\n",
       " ('are', 76527),\n",
       " ('it', 73334),\n",
       " ('from', 72871),\n",
       " ('or', 68945),\n",
       " ('his', 62603),\n",
       " ('an', 61925),\n",
       " ('be', 61281),\n",
       " ('this', 58832),\n",
       " ('which', 54788),\n",
       " ('at', 54576),\n",
       " ('he', 53573),\n",
       " ('also', 44358),\n",
       " ('not', 44033),\n",
       " ('have', 39712),\n",
       " ('were', 39086),\n",
       " ('has', 37866),\n",
       " ('but', 35358),\n",
       " ('other', 32433),\n",
       " ('their', 31523),\n",
       " ('its', 29567),\n",
       " ('first', 28810),\n",
       " ('they', 28553),\n",
       " ('some', 28161),\n",
       " ('had', 28100),\n",
       " ('all', 26229),\n",
       " ('more', 26223),\n",
       " ('most', 25563),\n",
       " ('can', 25519),\n",
       " ('been', 25383),\n",
       " ('such', 24413),\n",
       " ('many', 24096),\n",
       " ('who', 23997),\n",
       " ('new', 23770),\n",
       " ('used', 22737),\n",
       " ('there', 22707),\n",
       " ('after', 21125),\n",
       " ('when', 20623),\n",
       " ('into', 20484),\n",
       " ('american', 20477),\n",
       " ('time', 20412),\n",
       " ('these', 19864),\n",
       " ('only', 19463),\n",
       " ('see', 19206),\n",
       " ('may', 19115),\n",
       " ('than', 18807),\n",
       " ('world', 17949),\n",
       " ('i', 17581),\n",
       " ('b', 17516),\n",
       " ('would', 17377),\n",
       " ('d', 17236),\n",
       " ('no', 16155),\n",
       " ('however', 15861),\n",
       " ('between', 15737),\n",
       " ('about', 15574),\n",
       " ('over', 15122),\n",
       " ('years', 14935),\n",
       " ('states', 14916),\n",
       " ('people', 14696),\n",
       " ('war', 14629),\n",
       " ('during', 14578),\n",
       " ('united', 14494),\n",
       " ('known', 14437),\n",
       " ('if', 14420),\n",
       " ('called', 14151),\n",
       " ('use', 14011),\n",
       " ('th', 13380),\n",
       " ('system', 13296),\n",
       " ('often', 12987),\n",
       " ('state', 12904),\n",
       " ('so', 12722),\n",
       " ('history', 12623),\n",
       " ('will', 12560),\n",
       " ('up', 12445),\n",
       " ('while', 12363)]"
      ]
     },
     "execution_count": 34,
     "metadata": {},
     "output_type": "execute_result"
    }
   ],
   "source": [
    "count"
   ]
  },
  {
   "cell_type": "code",
   "execution_count": null,
   "metadata": {},
   "outputs": [],
   "source": []
  }
 ],
 "metadata": {
  "kernelspec": {
   "display_name": "Python 3",
   "language": "python",
   "name": "python3"
  },
  "language_info": {
   "codemirror_mode": {
    "name": "ipython",
    "version": 3
   },
   "file_extension": ".py",
   "mimetype": "text/x-python",
   "name": "python",
   "nbconvert_exporter": "python",
   "pygments_lexer": "ipython3",
   "version": "3.6.6"
  }
 },
 "nbformat": 4,
 "nbformat_minor": 2
}
